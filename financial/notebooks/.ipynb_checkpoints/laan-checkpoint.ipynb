{
 "cells": [
  {
   "cell_type": "code",
   "execution_count": 37,
   "id": "abf7708d",
   "metadata": {},
   "outputs": [],
   "source": [
    "FORMUE = 223_460.5 # 06.12.2024\n",
    "LÅN = -1_259_928.35 # 06.12.2024\n",
    "RENTE = 0.0582\n",
    "AFDRAG = 8_085.35"
   ]
  },
  {
   "cell_type": "code",
   "execution_count": 38,
   "id": "2a84a160-54ec-4ca2-bd5c-15ffa6966b4d",
   "metadata": {},
   "outputs": [],
   "source": [
    "FORMUE = 223_460.5 - 200_000\n",
    "LÅN = -1_259_928.35 + 200_000\n",
    "RENTE = 0.0582\n",
    "AFDRAG = 10_000"
   ]
  },
  {
   "cell_type": "code",
   "execution_count": 39,
   "id": "39434d6f",
   "metadata": {},
   "outputs": [],
   "source": [
    "def tilskrivelse_mnd(l: float, r: float=RENTE, a: float=AFDRAG) -> float:\n",
    "    \"\"\"Tager lån, rente og mndl afdrag og returnerer en månedlig rentetilskrivelse\"\"\"\n",
    "    return (l + a) / 12 * r"
   ]
  },
  {
   "cell_type": "code",
   "execution_count": 40,
   "id": "eb7f49e0",
   "metadata": {},
   "outputs": [],
   "source": [
    "def simuler(f: float=FORMUE, l: float=LÅN, r: float=RENTE, a: float=AFDRAG) -> float:\n",
    "    \"\"\"Tager lån og nøgletal og returnerer totale måneder og afdrag\"\"\"\n",
    "    temp_laan = l\n",
    "    count_maaned = 0\n",
    "    afdrag_ttl = 0\n",
    "    while temp_laan < 0:\n",
    "        count_maaned += 1\n",
    "        afdrag_ttl += a\n",
    "        temp_laan += a\n",
    "        temp_laan += tilskrivelse_mnd(temp_laan, r, a)\n",
    "    return count_maaned, afdrag_ttl"
   ]
  },
  {
   "cell_type": "code",
   "execution_count": 41,
   "id": "4bb267d2",
   "metadata": {},
   "outputs": [],
   "source": [
    "måneder, total_omk = simuler()"
   ]
  },
  {
   "cell_type": "code",
   "execution_count": 42,
   "id": "676f98ab",
   "metadata": {},
   "outputs": [
    {
     "data": {
      "text/plain": [
       "12.333333333333334"
      ]
     },
     "execution_count": 42,
     "metadata": {},
     "output_type": "execute_result"
    }
   ],
   "source": [
    "måneder / 12"
   ]
  },
  {
   "cell_type": "code",
   "execution_count": 43,
   "id": "e50b3bfe",
   "metadata": {},
   "outputs": [
    {
     "data": {
      "text/plain": [
       "1480000"
      ]
     },
     "execution_count": 43,
     "metadata": {},
     "output_type": "execute_result"
    }
   ],
   "source": [
    "total_omk"
   ]
  }
 ],
 "metadata": {
  "kernelspec": {
   "display_name": "Python 3 (ipykernel)",
   "language": "python",
   "name": "python3"
  },
  "language_info": {
   "codemirror_mode": {
    "name": "ipython",
    "version": 3
   },
   "file_extension": ".py",
   "mimetype": "text/x-python",
   "name": "python",
   "nbconvert_exporter": "python",
   "pygments_lexer": "ipython3",
   "version": "3.12.3"
  },
  "widgets": {
   "application/vnd.jupyter.widget-state+json": {
    "state": {},
    "version_major": 2,
    "version_minor": 0
   }
  }
 },
 "nbformat": 4,
 "nbformat_minor": 5
}
