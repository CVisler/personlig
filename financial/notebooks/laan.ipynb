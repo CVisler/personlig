{
 "cells": [
  {
   "cell_type": "code",
   "execution_count": 9,
   "id": "abf7708d",
   "metadata": {},
   "outputs": [],
   "source": [
    "FORMUE: float = 264_947.5 # 04.01.2024\n",
    "LÅN: float = -1_298_490.35 # 04.01.2024\n",
    "RENTE: float = 0.032\n",
    "AFDRAG: float = 6300.20"
   ]
  },
  {
   "cell_type": "code",
   "execution_count": 10,
   "id": "39434d6f",
   "metadata": {},
   "outputs": [],
   "source": [
    "def tilskrivelse_mnd(l: float, r: float=RENTE, a: float=AFDRAG) -> float:\n",
    "    \"\"\"Tager lån, rente og mndl afdrag og returnerer en månedlig rentetilskrivelse\"\"\"\n",
    "    return (l + a) / 12 * r"
   ]
  },
  {
   "cell_type": "code",
   "execution_count": 11,
   "id": "eb7f49e0",
   "metadata": {},
   "outputs": [],
   "source": [
    "def simuler(f: float=FORMUE, l: float=LÅN, r: float=RENTE, a: float=AFDRAG) -> float:\n",
    "    \"\"\"Tager lån og nøgletal og returnerer totale måneder og afdrag\"\"\"\n",
    "    temp_laan = l\n",
    "    count_maaned = 0\n",
    "    afdrag_ttl = 0\n",
    "    while temp_laan < 0:\n",
    "        count_maaned += 1\n",
    "        afdrag_ttl += a\n",
    "        temp_laan += a\n",
    "        temp_laan += tilskrivelse_mnd(temp_laan, r, a)\n",
    "    return count_maaned, afdrag_ttl"
   ]
  },
  {
   "cell_type": "code",
   "execution_count": 12,
   "id": "4bb267d2",
   "metadata": {},
   "outputs": [],
   "source": [
    "måneder, total_omk = simuler()"
   ]
  },
  {
   "cell_type": "code",
   "execution_count": 13,
   "id": "676f98ab",
   "metadata": {},
   "outputs": [
    {
     "data": {
      "text/plain": [
       "24.833333333333332"
      ]
     },
     "execution_count": 13,
     "metadata": {},
     "output_type": "execute_result"
    }
   ],
   "source": [
    "måneder / 12"
   ]
  },
  {
   "cell_type": "code",
   "execution_count": 14,
   "id": "e50b3bfe",
   "metadata": {},
   "outputs": [
    {
     "data": {
      "text/plain": [
       "1877459.5999999908"
      ]
     },
     "execution_count": 14,
     "metadata": {},
     "output_type": "execute_result"
    }
   ],
   "source": [
    "total_omk"
   ]
  }
 ],
 "metadata": {
  "kernelspec": {
   "display_name": "Python 3 (ipykernel)",
   "language": "python",
   "name": "python3"
  },
  "language_info": {
   "codemirror_mode": {
    "name": "ipython",
    "version": 3
   },
   "file_extension": ".py",
   "mimetype": "text/x-python",
   "name": "python",
   "nbconvert_exporter": "python",
   "pygments_lexer": "ipython3",
   "version": "3.10.12"
  }
 },
 "nbformat": 4,
 "nbformat_minor": 5
}
