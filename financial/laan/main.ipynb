{
 "cells": [
  {
   "cell_type": "markdown",
   "id": "f6cebf8c",
   "metadata": {},
   "source": [
    "# Poster\n",
    "---"
   ]
  },
  {
   "cell_type": "code",
   "execution_count": 93,
   "id": "115b853f",
   "metadata": {},
   "outputs": [],
   "source": [
    "BRUTTO: int = 41_859\n",
    "FRADRAG: int = 10_773\n",
    "\n",
    "# Tillæg\n",
    "TILLÆG = {\n",
    "    'INTERNET': 372,\n",
    "    'TELEFON': 258.33,\n",
    "    'SUNDHEDSFSKR': 99.08,\n",
    "}\n",
    "\n",
    "# Pension/forsikring\n",
    "PENS_FORS = {\n",
    "    'ATP': 94.65,\n",
    "    'PENSION_BIDRAG': 0.05,\n",
    "    'AM_BIDRAG': 0.08,    \n",
    "}\n",
    "\n",
    "# A Skat\n",
    "A_SKAT: float = 0.37\n",
    "\n",
    "# Yderligere\n",
    "YDERLIGERE = {\n",
    "    'KANTINE': 365,\n",
    "}"
   ]
  },
  {
   "cell_type": "code",
   "execution_count": 94,
   "id": "c7f0de80",
   "metadata": {},
   "outputs": [],
   "source": [
    "def udregn_skat(brt: int, frdr: int, tlg: dict, pf: dict, skat: float, ydl: dict) -> float:\n",
    "    \"\"\"\n",
    "    Tager nøgletal som input og returnerer nettoløn\n",
    "    \"\"\"\n",
    "    # Skattegrundlag\n",
    "    T1 = brt * ( 1 - pf.get('PENSION_BIDRAG') )\n",
    "    T2 = T1 + sum(tlg.values()) - pf.get('ATP')\n",
    "    SKATTEGRUNDLAG = T2 * ( 1 - pf.get('AM_BIDRAG') )\n",
    "    \n",
    "    # A beskatning\n",
    "    BESKATNING = ( SKATTEGRUNDLAG - frdr ) * skat\n",
    "    \n",
    "    # Pension/forsikringsposter\n",
    "    PF_T1 = brt * pf.get('PENSION_BIDRAG') # Egen pensionsbidrag\n",
    "    PF_T2 = ( brt - PF_T1 ) + sum(tlg.values()) - pf.get('ATP') # AM-Bidrag beskatningsgrundlag\n",
    "    PF_T3 = PF_T2 * ( pf.get('AM_BIDRAG') ) # AM-Bidrag\n",
    "    PF_TTL = ( PF_T1 + PF_T3 + pf.get('ATP'))\n",
    "    \n",
    "    # NETTO\n",
    "    out = brt + tlg.get('INTERNET') - PF_TTL - BESKATNING - sum(ydl.values())\n",
    "    \n",
    "    return out"
   ]
  },
  {
   "cell_type": "code",
   "execution_count": 95,
   "id": "835ba83e",
   "metadata": {},
   "outputs": [
    {
     "data": {
      "text/plain": [
       "26679.909476"
      ]
     },
     "execution_count": 95,
     "metadata": {},
     "output_type": "execute_result"
    }
   ],
   "source": [
    "udregn_skat(BRUTTO, FRADRAG, TILLÆG, PENS_FORS, A_SKAT, YDERLIGERE)"
   ]
  }
 ],
 "metadata": {
  "kernelspec": {
   "display_name": "Python 3 (ipykernel)",
   "language": "python",
   "name": "python3"
  },
  "language_info": {
   "codemirror_mode": {
    "name": "ipython",
    "version": 3
   },
   "file_extension": ".py",
   "mimetype": "text/x-python",
   "name": "python",
   "nbconvert_exporter": "python",
   "pygments_lexer": "ipython3",
   "version": "3.10.12"
  }
 },
 "nbformat": 4,
 "nbformat_minor": 5
}
